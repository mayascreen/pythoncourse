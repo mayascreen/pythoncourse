{
  "nbformat": 4,
  "nbformat_minor": 0,
  "metadata": {
    "colab": {
      "name": "Untitled2.ipynb",
      "version": "0.3.2",
      "provenance": [],
      "include_colab_link": true
    },
    "kernelspec": {
      "name": "python3",
      "display_name": "Python 3"
    }
  },
  "cells": [
    {
      "cell_type": "markdown",
      "metadata": {
        "id": "view-in-github",
        "colab_type": "text"
      },
      "source": [
        "<a href=\"https://colab.research.google.com/github/mayascreen/pythoncourse/blob/master/Untitled2.ipynb\" target=\"_parent\"><img src=\"https://colab.research.google.com/assets/colab-badge.svg\" alt=\"Open In Colab\"/></a>"
      ]
    },
    {
      "cell_type": "code",
      "metadata": {
        "id": "SsIi88KqWlw6",
        "colab_type": "code",
        "colab": {
          "base_uri": "https://localhost:8080/",
          "height": 35
        },
        "outputId": "77b68bf2-9523-4390-acb6-3c44a807c770"
      },
      "source": [
        "x = \"30\"\n",
        "y = \"30\"\n",
        "print(x = y)"
      ],
      "execution_count": 3,
      "outputs": [
        {
          "output_type": "stream",
          "text": [
            "3030\n"
          ],
          "name": "stdout"
        }
      ]
    },
    {
      "cell_type": "code",
      "metadata": {
        "id": "fkCT8Y3VYcRH",
        "colab_type": "code",
        "colab": {
          "base_uri": "https://localhost:8080/",
          "height": 191
        },
        "outputId": "5ffe36d7-e4d2-45a6-f6e3-9f19cb72822e"
      },
      "source": [
        "from random import randint\n",
        "for i in range(10):\n",
        " print(randint(1, 5))"
      ],
      "execution_count": 5,
      "outputs": [
        {
          "output_type": "stream",
          "text": [
            "2\n",
            "5\n",
            "1\n",
            "3\n",
            "1\n",
            "3\n",
            "2\n",
            "1\n",
            "3\n",
            "5\n"
          ],
          "name": "stdout"
        }
      ]
    },
    {
      "cell_type": "code",
      "metadata": {
        "id": "cgAaIWu9ZALJ",
        "colab_type": "code",
        "colab": {
          "base_uri": "https://localhost:8080/",
          "height": 35
        },
        "outputId": "10018355-c33c-4c13-8349-33cad7bee33d"
      },
      "source": [
        "a = 'hello' # line 1\n",
        "b = 'ello'\n",
        "def x(x,y): # line 2\n",
        " z = x[0] # line 3\n",
        " return z # line 4\n",
        "print(x(a,b)) # line 5"
      ],
      "execution_count": 13,
      "outputs": [
        {
          "output_type": "stream",
          "text": [
            "hello\n"
          ],
          "name": "stdout"
        }
      ]
    },
    {
      "cell_type": "code",
      "metadata": {
        "id": "LDkagYWcaHwg",
        "colab_type": "code",
        "colab": {
          "base_uri": "https://localhost:8080/",
          "height": 35
        },
        "outputId": "4924788a-c84a-4922-dfc5-06bb5480d24d"
      },
      "source": [
        "s = 'SPAM'\n",
        "def f(x):\n",
        " return s + 'MAPS'\n",
        "print(f(s))\n"
      ],
      "execution_count": 16,
      "outputs": [
        {
          "output_type": "stream",
          "text": [
            "SPAMMAPS\n"
          ],
          "name": "stdout"
        }
      ]
    }
  ]
}